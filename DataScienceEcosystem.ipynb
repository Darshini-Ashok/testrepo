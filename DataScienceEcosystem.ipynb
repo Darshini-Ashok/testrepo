{
 "cells": [
  {
   "cell_type": "markdown",
   "id": "35ab0b65-21f7-402e-b430-17d16da4eac3",
   "metadata": {},
   "source": [
    "# Data Science Tools and Ecosystem"
   ]
  },
  {
   "cell_type": "markdown",
   "id": "9a075a04-ccd7-403f-9c20-be1dda511310",
   "metadata": {},
   "source": [
    "In this notebook, Data Science Tools and Ecosystem are summarized.\n",
    "\n"
   ]
  },
  {
   "cell_type": "markdown",
   "id": "a212f7cf-0716-4bda-854b-98cf65056468",
   "metadata": {},
   "source": [
    "__Objectives:__\n",
    "<li>List popular languages that Data Scientists use.</li>\n",
    "<li>List commonly used libraries used by Data Scientists.</li>\n",
    "<li>Comment on Data Science tools.</li>"
   ]
  },
  {
   "cell_type": "markdown",
   "id": "40711424-f4f0-4e81-aab3-88b164d146a2",
   "metadata": {},
   "source": [
    "Some of the popular languages that Data Scientists use are:\n"
   ]
  },
  {
   "cell_type": "markdown",
   "id": "35de9b09-74fe-436b-9cdb-8852077dddbe",
   "metadata": {},
   "source": [
    "<ol>\n",
    "<li>Python.</li>\n",
    "<li>R.</li>\n",
    "<li>SQL.</li>\n",
    "<li>Java.</li>\n",
    "<li>Julia.</li>\n",
    "<li>Scala.</li>\n",
    "</ol></ol>"
   ]
  },
  {
   "cell_type": "markdown",
   "id": "946d6bfe-8e86-4f4b-b071-6f5387e3efe8",
   "metadata": {},
   "source": [
    "Some of the commonly used libraries used by Data Scientists include:\n"
   ]
  },
  {
   "cell_type": "markdown",
   "id": "e2df0534-a30b-4692-a9b2-d586d68a5558",
   "metadata": {},
   "source": [
    "<ol>\n",
    "<li>TensorFlow.</li>\n",
    "<li>NumPy.</li>\n",
    "<li>SciPy.</li>\n",
    "<li>Pandas.</li>\n",
    "<li>Matplotlib.</li>\n",
    "<li>Keras.</li>\n",
    "<li>SciKit-Learn.</li>\n",
    "<li>PyTorch.</li>\n",
    "<li>Scrapy.</li>\n",
    "<li>BeautifulSoup.</li>\n",
    "</ol>"
   ]
  },
  {
   "cell_type": "markdown",
   "id": "3890882e-ddb3-4af4-b460-b87da2171a21",
   "metadata": {},
   "source": [
    "|Data Science Tools|\n",
    "|:--------:|\n",
    "| R studio|\n",
    "| Jupyter Notebook |\n",
    "| Visual Studio Code|"
   ]
  },
  {
   "cell_type": "markdown",
   "id": "82a51da7-a01a-4acb-a310-f05e987fd840",
   "metadata": {},
   "source": [
    "### Below are a few examples of evaluating arithmetic expressions in Python."
   ]
  },
  {
   "cell_type": "code",
   "execution_count": 9,
   "id": "191e55d5-a75b-4ae4-892d-f8c6944c18a9",
   "metadata": {},
   "outputs": [
    {
     "data": {
      "text/plain": [
       "17"
      ]
     },
     "execution_count": 9,
     "metadata": {},
     "output_type": "execute_result"
    }
   ],
   "source": [
    "#This a simple arithmetic expression to mutiply then add integers\n",
    "(3*4)+5"
   ]
  },
  {
   "cell_type": "code",
   "execution_count": 10,
   "id": "acf10c08-c1a8-439c-a76c-d748878395e5",
   "metadata": {},
   "outputs": [
    {
     "name": "stdout",
     "output_type": "stream",
     "text": [
      "3.3333333333333335 mins. \n"
     ]
    }
   ],
   "source": [
    "#This will convert 200 minutes to hours by diving by 60\n",
    "time = 200\n",
    "hours = time / 60\n",
    "#mins = time/60)\n",
    "print( str(hours) +  \" mins. \")\n",
    "\n",
    "# Result: 3.3333333333333335 hours"
   ]
  },
  {
   "cell_type": "markdown",
   "id": "f0b69fc1-47e5-4a57-8e8d-b8a71ffa5952",
   "metadata": {},
   "source": [
    "## __Author:__\n"
   ]
  },
  {
   "cell_type": "markdown",
   "id": "030a9d23-96c1-40c5-83d5-7362af2daa2f",
   "metadata": {},
   "source": [
    "Darshini Ashok"
   ]
  }
 ],
 "metadata": {
  "kernelspec": {
   "display_name": "Python 3 (ipykernel)",
   "language": "python",
   "name": "python3"
  },
  "language_info": {
   "codemirror_mode": {
    "name": "ipython",
    "version": 3
   },
   "file_extension": ".py",
   "mimetype": "text/x-python",
   "name": "python",
   "nbconvert_exporter": "python",
   "pygments_lexer": "ipython3",
   "version": "3.11.7"
  }
 },
 "nbformat": 4,
 "nbformat_minor": 5
}
